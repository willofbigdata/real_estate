{
 "cells": [
  {
   "cell_type": "code",
   "execution_count": 12,
   "metadata": {
    "collapsed": true
   },
   "outputs": [],
   "source": [
    "# 準備工作\n",
    "\n",
    "from bs4 import BeautifulSoup\n",
    "# import lxml\n",
    "import time\n",
    "import datetime\n",
    "import re\n",
    "import sqlite3\n",
    "import os\n",
    "import json\n",
    "import pprint\n",
    "\n",
    "db_name = \"../data/pacific.sqlite\"\n",
    "json_name = \"../data/pacific.json\""
   ]
  },
  {
   "cell_type": "code",
   "execution_count": 2,
   "metadata": {
    "collapsed": true
   },
   "outputs": [],
   "source": [
    "# 從db_name取出資料\n",
    "\n",
    "with sqlite3.connect(db_name) as conn_retrieve:\n",
    "    \n",
    "    c_rt = conn_retrieve.cursor()\n",
    "    qryString = \"SELECT * from rental;\"\n",
    "    c_rt.execute(qryString)\n",
    "    retrieved_list = c_rt.fetchall()\n",
    "\n",
    "c_rt.close()"
   ]
  },
  {
   "cell_type": "markdown",
   "metadata": {},
   "source": [
    "# 定義方法"
   ]
  },
  {
   "cell_type": "code",
   "execution_count": 3,
   "metadata": {
    "collapsed": true
   },
   "outputs": [],
   "source": [
    "# 引用 pacific_analysis_soup.py\n",
    "\n",
    "# %load ../../Ivan/pacific_analysis_soup.py\n",
    "\"\"\"\n",
    "purpose:太平洋房屋 html檔案解析\n",
    "\n",
    "input: html格式\n",
    "\n",
    "output:dict檔案 ， 第二個參數若輸入True 則回傳json檔\n",
    "\n",
    "ex: soup_analysis(soup) \n",
    "\n",
    "soup來源：DB[pacific.sqlite] → table[rental] → column[soup]\n",
    "\n",
    "\"\"\"\n",
    "\n",
    "def soup_analysis(soup,jsonOn=False):  #第二個參數輸入True 格式回傳json檔\n",
    "    \n",
    "    in_key = {} #所有的內部真實儲存欄位\n",
    "\n",
    "    #標題\n",
    "    in_key['標題'] = soup.find('h1','ng-binding').text[:-6] #去掉後面編號\n",
    "\n",
    "    #編號\n",
    "    in_key['編號'] = soup.find('h1','ng-binding').text[-6:] #去掉後面編號\n",
    "\n",
    "    #地址\n",
    "    in_key['地址'] = soup.find('h2','ng-binding').text\n",
    "\n",
    "    #價格\n",
    "    in_key['價格'] = soup.find('b','ng-binding').text\n",
    "\n",
    "    #細項 [格局一]#\n",
    "    watch_1 = soup.find_all('li','ng-binding')\n",
    "\n",
    "\n",
    "    #坪數、押金、格局、樓層/樓高、出租型態、可遷入日期\n",
    "\n",
    "    for watch in watch_1:\n",
    "        key_and_value = watch.text.split('：')\n",
    "        in_key[key_and_value[0].replace('  ','')] = key_and_value[1]\n",
    "\n",
    "\n",
    "    # 車位、公車站名、管理費/收取方式、鄰近捷運、朝向、鄰近公園、\n",
    "    # 屋齡、鄰近市場、租賃期限、鄰近學校、房屋特色\n",
    "\n",
    "    watch_2 = soup.find('table','section_table')\n",
    "    watch_2_keys = watch_2.find_all('th') #找出key值\n",
    "    watch_2_values = watch_2.find_all('td') #找出list值\n",
    "\n",
    "    #清洗key值並塞進 key_lists\n",
    "    key_lists = []     \n",
    "    for a in watch_2_keys:\n",
    "        key_lists.append(a.text.replace(' ',''))\n",
    "\n",
    "    #用迴圈去跑，一個key值加入一個values值\n",
    "    number = 0          \n",
    "    for a in watch_2_values:\n",
    "        in_key[key_lists[number]] = re.sub(\" |\\n|\\t\",'',a.text)\n",
    "        number = number + 1  \n",
    "\n",
    "\n",
    "    #出租說明、公共設施、居家設備、傢俱\n",
    "    \n",
    "    watch_3 = soup.find('table','section_table rent_eq')\n",
    "    watch_3 = watch_3.find_all('tr')\n",
    "\n",
    "    #在watch_3裡面做迴圈，把打勾的加進字串\n",
    "    for every_watch_3 in watch_3:\n",
    "        category_name = every_watch_3.find('th').text.replace(\n",
    "            '\\u3000','')\n",
    "        checked_set = every_watch_3.find_all(\n",
    "            'div',class_=re.compile('with$'))\n",
    "        checked_set = [re.sub(' |\\n','',each.text) \n",
    "                       for each in checked_set]\n",
    "        \n",
    "        # 把每個迴圈的title拉出來並塞進字串\n",
    "        in_key[category_name] = checked_set  \n",
    "        \n",
    "\n",
    "    #經緯度\n",
    "    \n",
    "    lati_longi = soup.find('a','bbtn bbtn_g bbtn_vr')[\n",
    "        'href'].split('?')[1].replace('lat=','').replace(\n",
    "        'lng=','').replace('&',',').split(',')\n",
    "    in_key['經度'] = lati_longi[0]\n",
    "    in_key['緯度'] = lati_longi[1]\n",
    "\n",
    "    \n",
    "#     print(type(in_key))\n",
    "    \n",
    "    if jsonOn == False:\n",
    "        return in_key\n",
    "    else:\n",
    "        return json.dumps(in_key,ensure_ascii=False)"
   ]
  },
  {
   "cell_type": "markdown",
   "metadata": {},
   "source": [
    "# 執行程序"
   ]
  },
  {
   "cell_type": "code",
   "execution_count": 4,
   "metadata": {
    "collapsed": true
   },
   "outputs": [],
   "source": [
    "# 迴圈1\n",
    "# 將所有的內頁資料清理並存成dictionary\n",
    "\n",
    "dict_all = {}\n",
    "\n",
    "for each in retrieved_list:\n",
    "    \n",
    "    input_soup = each[1]\n",
    "#     input_soup = BeautifulSoup(input_soup,'lxml')\n",
    "    input_soup = BeautifulSoup(input_soup,'html.parser')\n",
    "    \n",
    "    # 用if避開空內頁\n",
    "    check_title = input_soup.find(\"title\")\n",
    "    \n",
    "    if check_title != None:\n",
    "        \n",
    "        if check_title.text != \"太平洋房屋\":\n",
    "        \n",
    "            url = each[0]\n",
    "            page_id = url.split(\"=\")[-1]\n",
    "            output = soup_analysis(input_soup,jsonOn=False)\n",
    "            dict_all[page_id] = output"
   ]
  },
  {
   "cell_type": "code",
   "execution_count": 5,
   "metadata": {},
   "outputs": [
    {
     "data": {
      "text/plain": [
       "2568"
      ]
     },
     "execution_count": 5,
     "metadata": {},
     "output_type": "execute_result"
    }
   ],
   "source": [
    "# 檢查結果\n",
    "len(dict_all)"
   ]
  },
  {
   "cell_type": "code",
   "execution_count": 15,
   "metadata": {
    "collapsed": true
   },
   "outputs": [],
   "source": [
    "# 將最後的結果 dict_all 以json格式存到 json_name 路徑裡\n",
    "\n",
    "if os.path.isfile(json_name) == False:\n",
    "    json = json.dumps(dict_all,ensure_ascii=False)\n",
    "    f = open(json_name,\"w\")\n",
    "    f.write(json)\n",
    "    f.close()"
   ]
  },
  {
   "cell_type": "code",
   "execution_count": 14,
   "metadata": {},
   "outputs": [
    {
     "ename": "JSONDecodeError",
     "evalue": "Expecting value: line 1 column 1 (char 0)",
     "output_type": "error",
     "traceback": [
      "\u001b[0;31m---------------------------------------------------------------------------\u001b[0m",
      "\u001b[0;31mJSONDecodeError\u001b[0m                           Traceback (most recent call last)",
      "\u001b[0;32m<ipython-input-14-b061e44db6cb>\u001b[0m in \u001b[0;36m<module>\u001b[0;34m()\u001b[0m\n\u001b[1;32m      4\u001b[0m \u001b[0;34m\u001b[0m\u001b[0m\n\u001b[1;32m      5\u001b[0m     \u001b[0;32mwith\u001b[0m \u001b[0mopen\u001b[0m\u001b[0;34m(\u001b[0m\u001b[0mjson_name\u001b[0m\u001b[0;34m)\u001b[0m \u001b[0;32mas\u001b[0m \u001b[0mjson_file\u001b[0m\u001b[0;34m:\u001b[0m\u001b[0;34m\u001b[0m\u001b[0m\n\u001b[0;32m----> 6\u001b[0;31m         \u001b[0mdata\u001b[0m \u001b[0;34m=\u001b[0m \u001b[0mjson\u001b[0m\u001b[0;34m.\u001b[0m\u001b[0mload\u001b[0m\u001b[0;34m(\u001b[0m\u001b[0mjson_file\u001b[0m\u001b[0;34m)\u001b[0m\u001b[0;34m\u001b[0m\u001b[0m\n\u001b[0m\u001b[1;32m      7\u001b[0m         \u001b[0mpprint\u001b[0m\u001b[0;34m.\u001b[0m\u001b[0mpprint\u001b[0m\u001b[0;34m(\u001b[0m\u001b[0mdata\u001b[0m\u001b[0;34m)\u001b[0m\u001b[0;34m\u001b[0m\u001b[0m\n\u001b[1;32m      8\u001b[0m \u001b[0;32melse\u001b[0m\u001b[0;34m:\u001b[0m\u001b[0;34m\u001b[0m\u001b[0m\n",
      "\u001b[0;32m/usr/lib/python3.5/json/__init__.py\u001b[0m in \u001b[0;36mload\u001b[0;34m(fp, cls, object_hook, parse_float, parse_int, parse_constant, object_pairs_hook, **kw)\u001b[0m\n\u001b[1;32m    266\u001b[0m         \u001b[0mcls\u001b[0m\u001b[0;34m=\u001b[0m\u001b[0mcls\u001b[0m\u001b[0;34m,\u001b[0m \u001b[0mobject_hook\u001b[0m\u001b[0;34m=\u001b[0m\u001b[0mobject_hook\u001b[0m\u001b[0;34m,\u001b[0m\u001b[0;34m\u001b[0m\u001b[0m\n\u001b[1;32m    267\u001b[0m         \u001b[0mparse_float\u001b[0m\u001b[0;34m=\u001b[0m\u001b[0mparse_float\u001b[0m\u001b[0;34m,\u001b[0m \u001b[0mparse_int\u001b[0m\u001b[0;34m=\u001b[0m\u001b[0mparse_int\u001b[0m\u001b[0;34m,\u001b[0m\u001b[0;34m\u001b[0m\u001b[0m\n\u001b[0;32m--> 268\u001b[0;31m         parse_constant=parse_constant, object_pairs_hook=object_pairs_hook, **kw)\n\u001b[0m\u001b[1;32m    269\u001b[0m \u001b[0;34m\u001b[0m\u001b[0m\n\u001b[1;32m    270\u001b[0m \u001b[0;34m\u001b[0m\u001b[0m\n",
      "\u001b[0;32m/usr/lib/python3.5/json/__init__.py\u001b[0m in \u001b[0;36mloads\u001b[0;34m(s, encoding, cls, object_hook, parse_float, parse_int, parse_constant, object_pairs_hook, **kw)\u001b[0m\n\u001b[1;32m    317\u001b[0m             \u001b[0mparse_int\u001b[0m \u001b[0;32mis\u001b[0m \u001b[0;32mNone\u001b[0m \u001b[0;32mand\u001b[0m \u001b[0mparse_float\u001b[0m \u001b[0;32mis\u001b[0m \u001b[0;32mNone\u001b[0m \u001b[0;32mand\u001b[0m\u001b[0;34m\u001b[0m\u001b[0m\n\u001b[1;32m    318\u001b[0m             parse_constant is None and object_pairs_hook is None and not kw):\n\u001b[0;32m--> 319\u001b[0;31m         \u001b[0;32mreturn\u001b[0m \u001b[0m_default_decoder\u001b[0m\u001b[0;34m.\u001b[0m\u001b[0mdecode\u001b[0m\u001b[0;34m(\u001b[0m\u001b[0ms\u001b[0m\u001b[0;34m)\u001b[0m\u001b[0;34m\u001b[0m\u001b[0m\n\u001b[0m\u001b[1;32m    320\u001b[0m     \u001b[0;32mif\u001b[0m \u001b[0mcls\u001b[0m \u001b[0;32mis\u001b[0m \u001b[0;32mNone\u001b[0m\u001b[0;34m:\u001b[0m\u001b[0;34m\u001b[0m\u001b[0m\n\u001b[1;32m    321\u001b[0m         \u001b[0mcls\u001b[0m \u001b[0;34m=\u001b[0m \u001b[0mJSONDecoder\u001b[0m\u001b[0;34m\u001b[0m\u001b[0m\n",
      "\u001b[0;32m/usr/lib/python3.5/json/decoder.py\u001b[0m in \u001b[0;36mdecode\u001b[0;34m(self, s, _w)\u001b[0m\n\u001b[1;32m    337\u001b[0m \u001b[0;34m\u001b[0m\u001b[0m\n\u001b[1;32m    338\u001b[0m         \"\"\"\n\u001b[0;32m--> 339\u001b[0;31m         \u001b[0mobj\u001b[0m\u001b[0;34m,\u001b[0m \u001b[0mend\u001b[0m \u001b[0;34m=\u001b[0m \u001b[0mself\u001b[0m\u001b[0;34m.\u001b[0m\u001b[0mraw_decode\u001b[0m\u001b[0;34m(\u001b[0m\u001b[0ms\u001b[0m\u001b[0;34m,\u001b[0m \u001b[0midx\u001b[0m\u001b[0;34m=\u001b[0m\u001b[0m_w\u001b[0m\u001b[0;34m(\u001b[0m\u001b[0ms\u001b[0m\u001b[0;34m,\u001b[0m \u001b[0;36m0\u001b[0m\u001b[0;34m)\u001b[0m\u001b[0;34m.\u001b[0m\u001b[0mend\u001b[0m\u001b[0;34m(\u001b[0m\u001b[0;34m)\u001b[0m\u001b[0;34m)\u001b[0m\u001b[0;34m\u001b[0m\u001b[0m\n\u001b[0m\u001b[1;32m    340\u001b[0m         \u001b[0mend\u001b[0m \u001b[0;34m=\u001b[0m \u001b[0m_w\u001b[0m\u001b[0;34m(\u001b[0m\u001b[0ms\u001b[0m\u001b[0;34m,\u001b[0m \u001b[0mend\u001b[0m\u001b[0;34m)\u001b[0m\u001b[0;34m.\u001b[0m\u001b[0mend\u001b[0m\u001b[0;34m(\u001b[0m\u001b[0;34m)\u001b[0m\u001b[0;34m\u001b[0m\u001b[0m\n\u001b[1;32m    341\u001b[0m         \u001b[0;32mif\u001b[0m \u001b[0mend\u001b[0m \u001b[0;34m!=\u001b[0m \u001b[0mlen\u001b[0m\u001b[0;34m(\u001b[0m\u001b[0ms\u001b[0m\u001b[0;34m)\u001b[0m\u001b[0;34m:\u001b[0m\u001b[0;34m\u001b[0m\u001b[0m\n",
      "\u001b[0;32m/usr/lib/python3.5/json/decoder.py\u001b[0m in \u001b[0;36mraw_decode\u001b[0;34m(self, s, idx)\u001b[0m\n\u001b[1;32m    355\u001b[0m             \u001b[0mobj\u001b[0m\u001b[0;34m,\u001b[0m \u001b[0mend\u001b[0m \u001b[0;34m=\u001b[0m \u001b[0mself\u001b[0m\u001b[0;34m.\u001b[0m\u001b[0mscan_once\u001b[0m\u001b[0;34m(\u001b[0m\u001b[0ms\u001b[0m\u001b[0;34m,\u001b[0m \u001b[0midx\u001b[0m\u001b[0;34m)\u001b[0m\u001b[0;34m\u001b[0m\u001b[0m\n\u001b[1;32m    356\u001b[0m         \u001b[0;32mexcept\u001b[0m \u001b[0mStopIteration\u001b[0m \u001b[0;32mas\u001b[0m \u001b[0merr\u001b[0m\u001b[0;34m:\u001b[0m\u001b[0;34m\u001b[0m\u001b[0m\n\u001b[0;32m--> 357\u001b[0;31m             \u001b[0;32mraise\u001b[0m \u001b[0mJSONDecodeError\u001b[0m\u001b[0;34m(\u001b[0m\u001b[0;34m\"Expecting value\"\u001b[0m\u001b[0;34m,\u001b[0m \u001b[0ms\u001b[0m\u001b[0;34m,\u001b[0m \u001b[0merr\u001b[0m\u001b[0;34m.\u001b[0m\u001b[0mvalue\u001b[0m\u001b[0;34m)\u001b[0m \u001b[0;32mfrom\u001b[0m \u001b[0;32mNone\u001b[0m\u001b[0;34m\u001b[0m\u001b[0m\n\u001b[0m\u001b[1;32m    358\u001b[0m         \u001b[0;32mreturn\u001b[0m \u001b[0mobj\u001b[0m\u001b[0;34m,\u001b[0m \u001b[0mend\u001b[0m\u001b[0;34m\u001b[0m\u001b[0m\n",
      "\u001b[0;31mJSONDecodeError\u001b[0m: Expecting value: line 1 column 1 (char 0)"
     ]
    }
   ],
   "source": [
    "# 檢查結果\n",
    "\n",
    "# if os.path.isfile(json_name) == True:\n",
    "#     with open(json_name) as json_file:  \n",
    "#         data = json.load(json_file)\n",
    "#         pprint.pprint(data)\n",
    "# else:\n",
    "#     print(\"檔案不在路徑 \" + str(json_name) + \" 中\")"
   ]
  }
 ],
 "metadata": {
  "kernelspec": {
   "display_name": "Python 3",
   "language": "python",
   "name": "python3"
  },
  "language_info": {
   "codemirror_mode": {
    "name": "ipython",
    "version": 3
   },
   "file_extension": ".py",
   "mimetype": "text/x-python",
   "name": "python",
   "nbconvert_exporter": "python",
   "pygments_lexer": "ipython3",
   "version": "3.5.2"
  }
 },
 "nbformat": 4,
 "nbformat_minor": 2
}
