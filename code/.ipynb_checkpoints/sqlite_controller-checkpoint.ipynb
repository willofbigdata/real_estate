{
 "cells": [
  {
   "cell_type": "markdown",
   "metadata": {
    "collapsed": true
   },
   "source": [
    "用於直接查詢或操作sqlite資料庫\n",
    "為DB Browser for SQLite的令一個選擇"
   ]
  },
  {
   "cell_type": "code",
   "execution_count": 29,
   "metadata": {
    "collapsed": true
   },
   "outputs": [],
   "source": [
    "# 準備工作\n",
    "\n",
    "import sqlite3\n",
    "import os\n",
    "from bs4 import BeautifulSoup\n",
    "import random\n",
    "\n",
    "# import datetime\n",
    "# import re\n",
    "\n",
    "\n",
    "# 變數\n",
    "\n",
    "# 資料庫所在路徑以及名稱(包括檔案格式)\n",
    "\n",
    "db_name = \"../data/21_century.sqlite\""
   ]
  },
  {
   "cell_type": "code",
   "execution_count": 2,
   "metadata": {
    "collapsed": true
   },
   "outputs": [],
   "source": [
    "# 建立資料庫\n",
    "# 如果這個資料庫已經被建立過了 就略過\n",
    "\n",
    "\n",
    "if os.path.isfile(db_name) == False:\n",
    "\n",
    "    with sqlite3.connect(db_name) as conn_create:\n",
    "        \n",
    "        cc = conn_create.cursor()\n",
    "        \n",
    "        cc.execute(\"\"\"CREATE TABLE tableName(\n",
    "        primaryKey text unique not null,\n",
    "        column1 datetime \n",
    "        )\"\"\")\n",
    "\n",
    "    cc.close()"
   ]
  },
  {
   "cell_type": "code",
   "execution_count": 21,
   "metadata": {},
   "outputs": [],
   "source": [
    "# 下任何指令\n",
    "# 結果輸出於results\n",
    "\n",
    "with sqlite3.connect(db_name) as conn_command:\n",
    "        \n",
    "    c_com = conn_command.cursor()\n",
    "    c_com.execute(\"SELECT url from rental;\")\n",
    "    results = c_com.fetchall()   \n",
    "    \n",
    "c_com.close()"
   ]
  },
  {
   "cell_type": "code",
   "execution_count": 34,
   "metadata": {},
   "outputs": [],
   "source": [
    "# 檢視內網用\n",
    "# 從爬到的資料中隨機抽取url 然後檢視內頁格式\n",
    "\n",
    "samples = [url[0] for url in random.sample(results,10)]"
   ]
  },
  {
   "cell_type": "code",
   "execution_count": 36,
   "metadata": {},
   "outputs": [
    {
     "name": "stdout",
     "output_type": "stream",
     "text": [
      "http://www.century21.com.tw/index/Rental/RentPage/14789\n",
      "http://www.century21.com.tw/index/Rental/RentPage/15312\n",
      "http://www.century21.com.tw/index/Rental/RentPage/15221\n",
      "http://www.century21.com.tw/index/Rental/RentPage/15255\n",
      "http://www.century21.com.tw/index/Rental/RentPage/14428\n",
      "http://www.century21.com.tw/index/Rental/RentPage/15345\n",
      "http://www.century21.com.tw/index/Rental/RentPage/14463\n",
      "http://www.century21.com.tw/index/Rental/RentPage/15188\n",
      "http://www.century21.com.tw/index/Rental/RentPage/15128\n",
      "http://www.century21.com.tw/index/Rental/RentPage/14600\n"
     ]
    }
   ],
   "source": [
    "for each in samples:\n",
    "    print(each)"
   ]
  }
 ],
 "metadata": {
  "kernelspec": {
   "display_name": "Python 3",
   "language": "python",
   "name": "python3"
  },
  "language_info": {
   "codemirror_mode": {
    "name": "ipython",
    "version": 3
   },
   "file_extension": ".py",
   "mimetype": "text/x-python",
   "name": "python",
   "nbconvert_exporter": "python",
   "pygments_lexer": "ipython3",
   "version": "3.5.2"
  }
 },
 "nbformat": 4,
 "nbformat_minor": 2
}
