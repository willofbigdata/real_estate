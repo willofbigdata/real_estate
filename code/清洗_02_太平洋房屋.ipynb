{
 "cells": [
  {
   "cell_type": "markdown",
   "metadata": {
    "collapsed": true
   },
   "source": [
    "# 準備工作"
   ]
  },
  {
   "cell_type": "code",
   "execution_count": 1,
   "metadata": {
    "collapsed": true
   },
   "outputs": [],
   "source": [
    "# 準備工作\n",
    "\n",
    "from bs4 import BeautifulSoup\n",
    "import time\n",
    "import datetime\n",
    "import re\n",
    "import sqlite3\n",
    "import os\n",
    "import json\n",
    "import csv\n",
    "import pprint\n",
    "\n",
    "data_source = \"../data/pacific.json\"\n",
    "output_file_path = \"../data/pacific.csv\""
   ]
  },
  {
   "cell_type": "code",
   "execution_count": 2,
   "metadata": {
    "collapsed": true
   },
   "outputs": [],
   "source": [
    "# 讀取全臺縣市區域街道查詢表\n",
    "\n",
    "addr_source = \"../data/全台鄉鎮市區街道列表.csv\"\n",
    "\n",
    "with open(addr_source) as addr_file:    \n",
    "    addr_ref = csv.reader(addr_file)\n",
    "    addr_ref = [tuple(row) for row in addr_ref]"
   ]
  },
  {
   "cell_type": "markdown",
   "metadata": {},
   "source": [
    "# 定義方法"
   ]
  },
  {
   "cell_type": "code",
   "execution_count": 3,
   "metadata": {
    "collapsed": true
   },
   "outputs": [],
   "source": [
    "def sect_format(string):\n",
    "    final_string = string\n",
    "    before_list = ['1段','2段','3段','4段','5段','6段','7段','8段','9段','台']\n",
    "    after_list = ['一段','二段','三段','四段','五段','六段','七段','八段','九段','臺']\n",
    "    \n",
    "    bef_len = len(before_list)\n",
    "    aft_len = len(after_list)\n",
    "    \n",
    "    if bef_len == aft_len:\n",
    "        for i in range(0,bef_len):\n",
    "            final_string = final_string.replace(before_list[i],after_list[i])\n",
    "    else:\n",
    "        print(\"before_list 長度與 after_list 長度不同, 請檢查\")\n",
    "            \n",
    "    return final_string"
   ]
  },
  {
   "cell_type": "code",
   "execution_count": 4,
   "metadata": {
    "collapsed": true
   },
   "outputs": [],
   "source": [
    "def which_in_list(addr,addr_ref):\n",
    "\n",
    "    final_addr = \"\"\n",
    "    for addr_tuple in addr_ref:\n",
    "        \n",
    "        city_distr = addr_tuple[0] + addr_tuple[1]\n",
    "        \n",
    "        if addr_tuple[1] + addr_tuple[2] in addr:\n",
    "            final_addr = \"\".join(addr_tuple)\n",
    "            break\n",
    "        elif city_distr in addr:\n",
    "            if len(city_distr) > len(final_addr):\n",
    "                final_addr = addr_tuple[0] + addr_tuple[1]\n",
    "                \n",
    "    return final_addr"
   ]
  },
  {
   "cell_type": "code",
   "execution_count": 5,
   "metadata": {
    "collapsed": true
   },
   "outputs": [],
   "source": [
    "def findall_and_glue(regex,string):\n",
    "    final_string = \"\"\n",
    "    try:\n",
    "        final_list = re.findall(regex,test_string)\n",
    "        for each in final_list:\n",
    "            final_string += each\n",
    "        return final_string\n",
    "    except:\n",
    "        return \"\""
   ]
  },
  {
   "cell_type": "code",
   "execution_count": 6,
   "metadata": {
    "collapsed": true
   },
   "outputs": [],
   "source": [
    "def clean_address(addr):\n",
    "\n",
    "    addr = sect_format(addr)\n",
    "    final_addr = \"\"\n",
    "    final_addr += which_in_list(addr,addr_ref)\n",
    "    final_addr += findall_and_glue('\\d+巷|\\d+弄|\\d+鄰|\\d+號|\\d+樓',addr)\n",
    "\n",
    "    return final_addr"
   ]
  },
  {
   "cell_type": "code",
   "execution_count": 7,
   "metadata": {
    "collapsed": true
   },
   "outputs": [],
   "source": [
    "# 定義 permits() 方法\n",
    "# 判斷住所是否與許item_string中指定的物件(如寵物等)\n",
    "# main_data_all為包含單一住所全部資料的dictionary\n",
    "\n",
    "def permits(main_data_all, item_string):\n",
    "\n",
    "    permit = 'NULL'\n",
    "    re_no_criteria = '(禁止\\w*?' + item_string + '|不可\\w*?' + item_string + ')'\n",
    "    re_yes_criteria = '(開放\\w*?' + item_string + '|可\\w*?' + item_string + ')'\n",
    "    \n",
    "    for each in main_data_all:\n",
    "        desc_value = str(\"\".join(main_data_all[each]))\n",
    "        if item_string in each or item_string in desc_value:\n",
    "            if re.search(re_no_criteria, each + \" \" + desc_value):\n",
    "                permit = \"N\"\n",
    "            elif re.search(re_yes_criteria, each + \" \" + desc_value):\n",
    "                permit = \"Y\"\n",
    "    \n",
    "    return permit"
   ]
  },
  {
   "cell_type": "code",
   "execution_count": 8,
   "metadata": {
    "collapsed": true
   },
   "outputs": [],
   "source": [
    "# 定義 has() 方法\n",
    "# 判斷住所是否含有item_string中指定的物件(如停車場等)\n",
    "# main_data_all為包含單一住所全部資料的dictionary\n",
    "\n",
    "def has(main_data_all,item_string):\n",
    "    \n",
    "    permit = 'NULL'\n",
    "    re_no_criteria = '(沒有\\w*?' + item_string + '|無\\w*?' + item_string + ')'\n",
    "    re_yes_criteria = '(有\\w*?' + item_string + '|含\\w*?' + item_string + ')'\n",
    "    \n",
    "    for each in main_data_all:\n",
    "        desc_value = str(\"\".join(main_data_all[each]))\n",
    "        if item_string in each or item_string in desc_value:\n",
    "            if re.findall(re_no_criteria, each + \" \" + desc_value):\n",
    "                permit = \"N\"\n",
    "            elif re.findall(re_yes_criteria, each + \" \" + desc_value):\n",
    "                permit = \"Y\"\n",
    "                \n",
    "    return permit"
   ]
  },
  {
   "cell_type": "code",
   "execution_count": 9,
   "metadata": {
    "collapsed": true
   },
   "outputs": [],
   "source": [
    "# get_filtered_table() 方法\n",
    "# 從main_data資料集中取出所有MySQL所需的資料\n",
    "# 並以dictionary格式傳回\n",
    "\n",
    "def get_filtered_table(main_data):\n",
    "    \n",
    "    filtered_table = [[\n",
    "        'url',\n",
    "        'title',\n",
    "        'address',\n",
    "        'pattern',      \n",
    "        'floor',\n",
    "        'ttype',\n",
    "        'rent',\n",
    "        'lat',\n",
    "        'lng',\n",
    "        'sex',\n",
    "        'space',\n",
    "        'smoke',\n",
    "        'pet',\n",
    "        'cook',\n",
    "        'parking',\n",
    "        'updateDate'\n",
    "    ]]\n",
    "    \n",
    "    \n",
    "    # Loop\n",
    "\n",
    "    for each_id in main_data:\n",
    "\n",
    "        main_data_all = main_data[each_id]\n",
    "        rent_desc = main_data_all['出租說明']\n",
    "        publ_facil_desc = main_data_all['公共設施']\n",
    "        priv_facil_desc = main_data_all['居家設備']\n",
    "        furniture_desc = main_data_all['傢俱']\n",
    "        \n",
    "        \n",
    "        # url\n",
    "\n",
    "        url = 'https://www.pacific.com.tw/Object/ObjectRentDetail/?saleID=' + each_id\n",
    "\n",
    "        \n",
    "        # updateDate\n",
    "        \n",
    "        updateDate = main_data_all['爬蟲日期時間']\n",
    "        \n",
    "        \n",
    "        # title\n",
    "        \n",
    "        title = main_data_all['標題']\n",
    "\n",
    "        \n",
    "        # address\n",
    "        \n",
    "        address = clean_address(main_data_all['地址'])\n",
    "        \n",
    "        \n",
    "        # 格局\n",
    "        \n",
    "        try:\n",
    "            格局 = main_data_all['格局']\n",
    "        except:\n",
    "            格局 = 'NULL'\n",
    "        \n",
    "        \n",
    "        # floor\n",
    "        \n",
    "        try:\n",
    "            filtered = re.findall('^\\d+(?=樓)',main_data_all['樓層/樓高'])\n",
    "            if len(filtered) == 0:\n",
    "                floor = 0\n",
    "            else:\n",
    "                floor = int(filtered[0])\n",
    "        except:\n",
    "            floor = 0\n",
    "        \n",
    "        \n",
    "        # ttype       \n",
    "        \n",
    "        try:\n",
    "            ttype = main_data_all['出租型態']            \n",
    "            if ttype in ['雅房', '獨立套房', '整樓(棟)住家']:\n",
    "                ttype = \"H\"\n",
    "            elif ttype in ['店面商辦']:\n",
    "                ttype = \"S\"\n",
    "            elif ttype in ['工廠','出租土地']:\n",
    "                ttype = \"F\"\n",
    "            else:\n",
    "                # 其他判斷方式\n",
    "                if re.search('商業|店面|店',title):\n",
    "                    ttype = \"S\"                \n",
    "                elif re.search('工業|工業地|廠房|田地|農舍|農地',title):\n",
    "                    ttype = \"F\"\n",
    "                elif re.search('辦公|大樓',title):\n",
    "                    ttype = \"O\"\n",
    "                else:\n",
    "                    ttype = \"H\"           \n",
    "                \n",
    "        except:\n",
    "            print(each_id + \" 沒有種類相關資料\")\n",
    "            ttype = \"NULL\"\n",
    "\n",
    "\n",
    "        # avg_rent\n",
    "\n",
    "        avg_rent = main_data_all['價格']\n",
    "        avg_rent = re.search('(\\d|\\,)+',avg_rent)\n",
    "        avg_rent = avg_rent.group(0)\n",
    "        avg_rent = avg_rent.replace(\",\",\"\")\n",
    "        avg_rent = int(avg_rent)\n",
    "        \n",
    "        \n",
    "        # lat\n",
    "        \n",
    "        lat = float(main_data_all['緯度'])\n",
    "        \n",
    "        \n",
    "        # lng\n",
    "        \n",
    "        lng = float(main_data_all['經度'])\n",
    "\n",
    "        \n",
    "        # sex\n",
    "        \n",
    "        try:\n",
    "            if '限男性' in rent_desc:\n",
    "                sex = \"M\"\n",
    "            elif '限女性' in rent_desc:\n",
    "                sex = \"F\"\n",
    "            elif '男女不拘' in rent_desc:\n",
    "                sex = \"B\"\n",
    "            else:\n",
    "                # 如果在'出租說明'找不到 就到'房屋特色'找\n",
    "                detailed_desc = main_data_all['房屋特色']\n",
    "                \n",
    "                if re.search('限男性', detailed_desc):\n",
    "                    sex = \"M\"\n",
    "                if re.search('限女性', detailed_desc):\n",
    "                    sex = \"F\"\n",
    "                elif re.search('男女不拘|男女不限|不限男女', detailed_desc):\n",
    "                    sex = \"B\"                \n",
    "                else:\n",
    "                    sex = \"NULL\"\n",
    "        except:\n",
    "            sex = \"NULL\"\n",
    "\n",
    "\n",
    "        # space    \n",
    "\n",
    "        try:\n",
    "            space = main_data_all['坪數']\n",
    "            space = re.search('^(\\d|\\,|\\.)*',space)\n",
    "            space = space.group(0)\n",
    "        except:\n",
    "            space = \"NULL\"\n",
    "\n",
    "\n",
    "        # other info        \n",
    "        \n",
    "        # smoke\n",
    "\n",
    "        smoke = permits(main_data_all,'抽煙')\n",
    "        smoke = permits(main_data_all,'吸煙')\n",
    "        \n",
    "        \n",
    "        # pet\n",
    "        \n",
    "        if '可養寵物' in rent_desc:\n",
    "            pet = 'Y'\n",
    "        else:         \n",
    "            pet = permits(main_data_all,'寵物')\n",
    "        \n",
    "        \n",
    "        # cook\n",
    "        \n",
    "        cook = permits(main_data_all,'開伙')\n",
    "        \n",
    "        \n",
    "        # parking\n",
    "        \n",
    "        parking = has(main_data_all,'車位')\n",
    "\n",
    "    \n",
    "        # insert values\n",
    "\n",
    "        filtered_table.append([\n",
    "            url,\n",
    "            title,\n",
    "            address,\n",
    "            格局,      \n",
    "            floor,\n",
    "            ttype,\n",
    "            avg_rent,\n",
    "            lat,\n",
    "            lng,\n",
    "            sex,\n",
    "            space,\n",
    "            smoke,\n",
    "            pet,\n",
    "            cook,\n",
    "            parking,\n",
    "            updateDate\n",
    "        ])\n",
    "\n",
    "    \n",
    "    return filtered_table"
   ]
  },
  {
   "cell_type": "markdown",
   "metadata": {},
   "source": [
    "# 執行程式"
   ]
  },
  {
   "cell_type": "code",
   "execution_count": 10,
   "metadata": {
    "collapsed": true
   },
   "outputs": [],
   "source": [
    "# 讀取已存好的資料\n",
    "\n",
    "with open(data_source) as data_file:    \n",
    "    main_data = json.load(data_file)"
   ]
  },
  {
   "cell_type": "code",
   "execution_count": 16,
   "metadata": {
    "collapsed": true
   },
   "outputs": [],
   "source": [
    "# 檢視main_data\n",
    "# pprint.pprint(main_data)"
   ]
  },
  {
   "cell_type": "code",
   "execution_count": null,
   "metadata": {
    "collapsed": true
   },
   "outputs": [],
   "source": [
    "filtered_table = get_filtered_table(main_data)"
   ]
  },
  {
   "cell_type": "code",
   "execution_count": 12,
   "metadata": {
    "collapsed": true
   },
   "outputs": [],
   "source": [
    "# 檢視get_filtered_table()結果\n",
    "# pprint.pprint(filtered_table)"
   ]
  },
  {
   "cell_type": "code",
   "execution_count": 15,
   "metadata": {
    "collapsed": true
   },
   "outputs": [],
   "source": [
    "# pprint.pprint(filtered_table)"
   ]
  },
  {
   "cell_type": "code",
   "execution_count": 14,
   "metadata": {},
   "outputs": [
    {
     "name": "stdout",
     "output_type": "stream",
     "text": [
      "CSV file saved.\n"
     ]
    }
   ],
   "source": [
    "# 將最後的結果 dict_all 以json格式存到 json_name 路徑裡\n",
    "\n",
    "with open(output_file_path,'wt') as dest_file:    \n",
    "    output = csv.writer(dest_file, delimiter=',')\n",
    "    output.writerows(filtered_table)\n",
    "\n",
    "print(\"CSV file saved.\")"
   ]
  }
 ],
 "metadata": {
  "kernelspec": {
   "display_name": "Python 3",
   "language": "python",
   "name": "python3"
  },
  "language_info": {
   "codemirror_mode": {
    "name": "ipython",
    "version": 3
   },
   "file_extension": ".py",
   "mimetype": "text/x-python",
   "name": "python",
   "nbconvert_exporter": "python",
   "pygments_lexer": "ipython3",
   "version": "3.5.2"
  }
 },
 "nbformat": 4,
 "nbformat_minor": 2
}
