{
 "cells": [
  {
   "cell_type": "code",
   "execution_count": null,
   "metadata": {
    "collapsed": true
   },
   "outputs": [],
   "source": [
    "import requests as r\n",
    "import lxml\n",
    "from bs4 import BeautifulSoup as bs\n",
    "import re\n",
    "import json\n",
    "import base64\n",
    "import html\n",
    "import sqlite3\n",
    "from selenium import webdriver"
   ]
  },
  {
   "cell_type": "code",
   "execution_count": null,
   "metadata": {},
   "outputs": [],
   "source": [
    "# 永慶房屋 OK\n",
    "ut_index = \"http://rent.yungching.com.tw\"\n",
    "ut_src = \"http://rent.yungching.com.tw/Ashx/ShowList.ashx?VID=1250\"\n",
    "\n",
    "ut_CurrentPage = 1\n",
    "\n",
    "ut_head = {\"User-Agent\" : \"Mozilla/5.0 (Windows NT 6.1; Win64; x64) AppleWebKit/537.36 (KHTML, like Gecko) Chrome/58.0.3029.110 Safari/537.36\"}\n",
    "ut_payload = {\"County\" : \"台北市\" ,\"District\" : \"\" ,\"Rooms\" : \"\" ,\"PriceMin\" : \"\" ,\"PriceMax\" : \"\" ,\"AreaNeeds\" : \"\" ,\n",
    "              \"Purpose\" : \"\" ,\"CaseType\" : \"\" ,\"BuildAge\" : \"\" ,\"CaseFloor\" : \"\" ,\"DirFace\" : \"\" ,\"ParkingSpace\" : \"\" ,\n",
    "              \"KeyWord\" : \"\" ,\"Group\" : \"\" ,\"ListMode\" : \"PhotosAndWords\" ,\"PageCount\" : 40 ,\"CurrentPage\" : 1 ,\n",
    "              \"CurrentRange\" : ut_CurrentPage ,\"Sequence\" : \"\" ,\"SearchMode\" : 1 ,\"BuildNo\" : \"\" ,\"BuildingID\" : \"\" ,\n",
    "              \"RoadName\" : \"\" , \"MainShopID\" : \"\"}\n",
    "ut_res = r.post(ut_src, headers = ut_head, data = ut_payload)\n",
    "ut_res.encoding = 'utf8'\n",
    "ut_soup = bs(ut_res.text, 'lxml')\n",
    "ut_totalPage = int(ut_soup.select('#hidTotalPages')[0]['value'])\n",
    "# for page in range(1, ut_totalPage + 1):\n",
    "for page in range(1, 4):\n",
    "    print('---ut_CurrentPage = ' + str(ut_CurrentPage) + '---')\n",
    "    for i in ut_soup.select('div.house_block_content h2 a'):\n",
    "        if 'http' not in i['href']:\n",
    "            print(ut_index + i['href'])\n",
    "#             pass\n",
    "    ut_CurrentPage = ut_CurrentPage + 1"
   ]
  },
  {
   "cell_type": "code",
   "execution_count": null,
   "metadata": {},
   "outputs": [],
   "source": [
    "# 中信房屋 OK\n",
    "import re\n",
    "import json\n",
    "index_jc = \"http://rent.cthouse.com.tw\"\n",
    "src_jc = \"http://rent.cthouse.com.tw/Building/SearchList_Submit\"\n",
    "\n",
    "# City ex:北市=1, 新北=2\n",
    "City = 1\n",
    "\n",
    "# Area 特定城市底下的區 ex: 中山區=1, 大同區=2\n",
    "Area = 1\n",
    "\n",
    "# P 頁數(類似FB顯示較舊歷史訊息方式)\n",
    "P = 1\n",
    "\n",
    "payload_jc = { \"City\" : City , \"Area\" : Area , \"CompartmentStyle\" : -1 ,  \"BuildingType\" : 0 ,\n",
    "           \"Room\" : 0 , \"RentalFee\" : 0 , \"Footage\" : 0 , \"P\" : P , \"ViewMode\" : 0 }\n",
    "\n",
    "head_jc = {\"User-Agent\" : \"Mozilla/5.0 (Windows NT 10.0; Win64; x64) AppleWebKit/537.36 (KHTML, like Gecko) Chrome/58.0.3029.110 Safari/537.36\"\n",
    "           ,\"Content-Type\":\"application/x-www-form-urlencoded; charset=UTF-8\"}\n",
    "\n",
    "\n",
    "res_jc = r.post(url_jc, data = payload_jc, headers = head_jc)\n",
    "# data = json.loads(res_jc.text)\n",
    "soup_jc = bs(html.unescape((data['html'])), 'lxml')\n",
    "# soup_jc\n",
    "\n",
    "# regex硬解\n",
    "# res_jc = r.post(url_jc, data = payload_jc, headers = head_jc)\n",
    "# soup_jc = bs(res_jc.text, 'lxml')\n",
    "# soup_jc\n",
    "# idRegex = re.compile(r'/Building/Detail/\\d+')\n",
    "# mo = idRegex.findall(soup_jc.text)\n",
    "# for i in mo:\n",
    "#     href_jc = index_jc + i\n",
    "#     print(href_jc)"
   ]
  },
  {
   "cell_type": "code",
   "execution_count": null,
   "metadata": {},
   "outputs": [],
   "source": [
    "# 591 X\n",
    "src_591 = \"https://rent.591.com.tw/home/search/rsList?is_new_list=1&type=1&kind=0&searchtype=1&region=1&keywords=%E4%B8%AD%E5%B1%B1%E5%8D%80&section=1&firstRow=0&totalRows=1834\"\n",
    "\n",
    "payload_591 = {\"is_new_list\":1, \"type\":1, \"kind\":0, \"searchtype\":1, \"region\":1, \"keywords\":\"中山區\",\n",
    "               \"section\":3, \"firstRow\":0, \"totalRows\":1834}\n",
    "\n",
    "head_591 = {\"User-Agent\":\"Mozilla/5.0 (Windows NT 10.0; Win64; x64) AppleWebKit/537.36 (KHTML, like Gecko) Chrome/58.0.3029.110 Safari/537.36\",\n",
    "           \"Host\":\"rent.591.com.tw\",\n",
    "           \"Connection\":\"keep-alive\",\n",
    "           \"Accept\":\"application/json, text/javascript, */*; q=0.01\",\n",
    "           \"Referer\":\"https://rent.591.com.tw/new/?kind=0&region=1\",\n",
    "           \"Accept-Encoding\":\"gzip, deflate, sdch, br\",\n",
    "           \"Accept-Language\":\"zh-TW,zh;q=0.8,en-US;q=0.6,en;q=0.4\"}\n",
    "\n",
    "\n",
    "res_591 = r.get(src_591, data = payload_591, headers = head_591)\n",
    "soup_591 = bs(res_591.text, 'lxml')\n",
    "\n",
    "soup_591\n",
    "# data_591 = json.loads(res_591.text)\n",
    "# print(data_591.keys())\n",
    "# print(data_591['data'])"
   ]
  },
  {
   "cell_type": "code",
   "execution_count": null,
   "metadata": {},
   "outputs": [],
   "source": [
    "# 好房網 X\n",
    "index_hf = \"https://rent.housefun.com.tw/\"\n",
    "src_hf = \"https://rent.housefun.com.tw/ashx/search/search.ashx?VID=120.5\"\n",
    "head_hf = {\"Content-Type\":\"application/x-www-form-urlencoded; charset=UTF-8\"}\n",
    "payload_hf = {\"Method\":\"\",\"Status\":\"LTE=\",\"StatusMessage\":\"54ShIEpzb24gUG9zdCBEYXRh\",\n",
    "             \"User-Agent\":\"Mozilla/5.0 (Windows NT 10.0; Win64; x64) AppleWebKit/537.36 (KHTML, like Gecko) Chrome/58.0.3029.110 Safari/537.36\",\n",
    "             \"Cookie\":\"SEID_G=769dc1ef-c631-4433-9b84-85b4d3f9ad01; TRID_G=866ac66d-3082-4f92-8094-bda3da699c6e; __ltmwga=utmcsr=google|utmcmd=cpc; __dmwsc=20170500e06ks0000u0000,55rihun0zci5jho2csjogqnw,dm00148; _ga=GA1.3.540091613.1496249360; _gid=GA1.3.1445019688.1496249360; ASP.NET_SessionId=kz3rxegxb5ju2iymhxvbbnp3; ez2o_UNID=1496249362959959; WMX_Channel=,48,; _ga=GA1.4.540091613.1496249360; _gid=GA1.4.1445019688.1496249360; __ltm_https_flag=true; appier_tp=; appier_utmz=%7B%22csr%22%3A%22(adwords%20gclid)%22%2C%22timestamp%22%3A1496249362%7D; appier_uid_2=E1kaHsYmzIGfgc55YVlhkE; _atrk_ssid=S0xQjmS35ruMhngOIj0925; _atrk_sessidx=8; _atrk_siteuid=oQs-T2abiO3K0JkU; _atrk_xuid=3a5c2018d3821d62596ee0edb1d17619ea01ea470f0d2900b2c2b4efc45c9502\"}\n",
    "\n",
    "res_hf = r.post(src_hf, data = payload_hf, headers = head_hf)\n",
    "# res_hf.encoding='utf8'\n",
    "# soup_hf = \n",
    "bs(res_hf.text, 'lxml')"
   ]
  },
  {
   "cell_type": "code",
   "execution_count": null,
   "metadata": {},
   "outputs": [],
   "source": [
    "# 信義房屋 V\n",
    "page = 1\n",
    "index = \"http://rent.sinyi.com.tw/\"\n",
    "url = \"http://rent.sinyi.com.tw/AJAX/ajax_searchItem.php?search=1&b=1&page=\" + str(page)\n",
    "head= {}\n",
    "payload = {}\n",
    "res = r.get(url)\n",
    "soup = bs(res.text, 'lxml')\n",
    "totalPage = int(soup.select('div.paginate a.last')[0]['href'].split('page')[2].split(',')[1].strip())\n",
    "# for page in range(1, totalPage+1):\n",
    "for page in range(1, 11):\n",
    "    for i in soup.select('div.upper.clearfix a'):\n",
    "        ci_href = i['href']\n",
    "#         ci_title = i.text\n",
    "#         print(ci_title, ci_href)\n",
    "        print(ci_href)"
   ]
  }
 ],
 "metadata": {
  "kernelspec": {
   "display_name": "Python 3",
   "language": "python",
   "name": "python3"
  },
  "language_info": {
   "codemirror_mode": {
    "name": "ipython",
    "version": 3
   },
   "file_extension": ".py",
   "mimetype": "text/x-python",
   "name": "python",
   "nbconvert_exporter": "python",
   "pygments_lexer": "ipython3",
   "version": "3.5.2"
  }
 },
 "nbformat": 4,
 "nbformat_minor": 2
}
