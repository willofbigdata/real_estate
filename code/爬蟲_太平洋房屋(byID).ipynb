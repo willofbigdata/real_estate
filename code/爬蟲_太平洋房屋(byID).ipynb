{
 "cells": [
  {
   "cell_type": "code",
   "execution_count": 1,
   "metadata": {
    "collapsed": true
   },
   "outputs": [],
   "source": [
    "# 準備工作\n",
    "\n",
    "from bs4 import BeautifulSoup\n",
    "# import requests\n",
    "# import bs4\n",
    "from selenium import webdriver\n",
    "import time\n",
    "import datetime\n",
    "import re\n",
    "import sqlite3\n",
    "import os\n",
    "\n",
    "db_name = \"pacific.sqlite\"\n",
    "db_id_list = \"pacific_IDs.sqlite\"\n",
    "target_url_list = list(range(71086,71206))"
   ]
  },
  {
   "cell_type": "code",
   "execution_count": 2,
   "metadata": {
    "collapsed": true
   },
   "outputs": [],
   "source": [
    "# create a database recording which IDs have been examined.\n",
    "\n",
    "if os.path.isfile(db_id_list) == False:\n",
    "\n",
    "    with sqlite3.connect(db_id_list) as conn_id_list:\n",
    "        \n",
    "        c = conn_id_list.cursor()\n",
    "        \n",
    "        c.execute(\"\"\"CREATE TABLE idList(\n",
    "        id text unique not null,\n",
    "        done boolean not null default 0,\n",
    "        empty boolean not null default 1,\n",
    "        modDate datetime \n",
    "        )\"\"\")\n",
    "    \n",
    "    # Generate a list of potential IDs\n",
    "\n",
    "    id_list = list(range(1,100000))\n",
    "    id_list = [str(id).zfill(6) for id in id_list]\n",
    "    id_list = id_list[::-1]\n",
    "\n",
    "    today = datetime.datetime.today()\n",
    "    today = today.strftime('%Y-%m-%d %H:%M:%S')\n",
    "\n",
    "    with sqlite3.connect(db_id_list) as conn_id_list:    \n",
    "\n",
    "        for eachID in id_list:\n",
    "            command_string = \"\"\"INSERT INTO idList(id, modDate) \n",
    "            values(\"\"\" + eachID + \",'\" + str(today) + \"');\"\n",
    "            conn_id_list.execute(command_string)\n",
    "\n",
    "    conn_id_list.close()"
   ]
  },
  {
   "cell_type": "code",
   "execution_count": 3,
   "metadata": {
    "collapsed": true
   },
   "outputs": [],
   "source": [
    "# Create the database for storing data if it does not already exist.\n",
    "\n",
    "if os.path.isfile(db_name) == False:\n",
    "\n",
    "    with sqlite3.connect(db_name) as conn:\n",
    "        \n",
    "        c = conn.cursor()\n",
    "        \n",
    "        c.execute(\"\"\"CREATE TABLE rental(\n",
    "        url text unique not null,\n",
    "        soup text not null,\n",
    "        nosql text,\n",
    "        rdb text,\n",
    "        getTime datetime \n",
    "        )\"\"\")\n",
    "        \n",
    "    conn.close()"
   ]
  },
  {
   "cell_type": "code",
   "execution_count": 4,
   "metadata": {
    "collapsed": true
   },
   "outputs": [],
   "source": [
    "# Find all the URLs which have not been worked on before.\n",
    "# Place all such URLs in id_list\n",
    "\n",
    "with sqlite3.connect(db_id_list) as conn_done_url:\n",
    "    \n",
    "    c_du = conn_done_url.cursor()\n",
    "    qryString = \"SELECT id from idList where not done;\"\n",
    "    c_du.execute(qryString)\n",
    "    id_list = c_du.fetchall()\n",
    "    \n",
    "conn_done_url.close()"
   ]
  },
  {
   "cell_type": "code",
   "execution_count": 5,
   "metadata": {
    "collapsed": true
   },
   "outputs": [],
   "source": [
    "# Find all the URLs which already exist in the main database.\n",
    "\n",
    "with sqlite3.connect(db_name) as retr_url:\n",
    "        \n",
    "    c = retr_url.cursor()\n",
    "\n",
    "    c.execute(\"SELECT url from rental\")\n",
    "    url_completed = c.fetchall()\n",
    "    \n",
    "retr_url.close()"
   ]
  },
  {
   "cell_type": "code",
   "execution_count": 6,
   "metadata": {
    "collapsed": true
   },
   "outputs": [],
   "source": [
    "# Eliminate IDs which are alreay in the main database from id_list\n",
    "# for good measure\n",
    "\n",
    "# for each_url in url_completed:\n",
    "#     ID = each_url[0][-6:]\n",
    "#     if ID in id_list:\n",
    "#         id_list.remove(ID)"
   ]
  },
  {
   "cell_type": "code",
   "execution_count": 7,
   "metadata": {
    "collapsed": true
   },
   "outputs": [],
   "source": [
    "# Define method crawl()\n",
    "\n",
    "# Examine each ID to see whether it is an empty record.\n",
    "# If yes, then record only in the ID database.\n",
    "# If no, then record in both the Id database and the\n",
    "# main database.\n",
    "\n",
    "def crawl(target_id):\n",
    "\n",
    "    target_id = str(target_id)\n",
    "    target_id = str(target_id).zfill(6)\n",
    "    url = \"https://www.pacific.com.tw/Object/ObjectRentDetail/?saleID=\" + target_id\n",
    "\n",
    "    # Call phantomJS\n",
    "\n",
    "    driver = webdriver.PhantomJS()\n",
    "    driver.get(url)\n",
    "    time.sleep(2.5)\n",
    "    page_empty = (driver.title == \"太平洋房屋\")\n",
    "    columns_string = \"url, soup, nosql, rdb, getTime\"\n",
    "\n",
    "    # Store the results if the page does not return an empty record.\n",
    "\n",
    "    today = datetime.datetime.today()\n",
    "    today = today.strftime('%Y-%m-%d %H:%M:%S')\n",
    "    \n",
    "    if not page_empty:\n",
    "\n",
    "        soup = driver.page_source\n",
    "        soup = soup.replace(\"\\\"\",\"\\\"\\\"\")    # Need to escape the slash...\n",
    "        soup = soup.replace('\\'',\"\\'\\'\")\n",
    "\n",
    "        nosql = \"\"\n",
    "        rdb = \"\"\n",
    "\n",
    "        with sqlite3.connect(db_name) as conn3:\n",
    "\n",
    "            c3 = conn3.cursor()\n",
    "\n",
    "            values = \"'\" + url + \"',\\\"\\\"\\\"\" + soup + \"\\\"\\\"\\\",'\" + nosql + \"','\" + rdb + \"','\" + str(today) + \"'\"       \n",
    "\n",
    "            insertString = \"INSERT INTO rental (\" + columns_string + \") VALUES(\" + values + \");\"\n",
    "            c3.execute(insertString)\n",
    "        \n",
    "        conn3.close()\n",
    "        \n",
    "        print(str(today) + \": \" + str(target_id) + \" is not empty; crawled.\",end='\\r')\n",
    "    \n",
    "    else:\n",
    "        print(str(today) + \": \" + str(target_id) + \" is empty; skipped.    \",end='\\r')\n",
    "            \n",
    "    # Update db_id_list to show that the page has been worked on.   \n",
    "\n",
    "    with sqlite3.connect(db_id_list) as conn_update_id_list:\n",
    "\n",
    "        c_uil = conn_update_id_list.cursor()\n",
    "\n",
    "        if page_empty:\n",
    "            empty = 1\n",
    "        else:\n",
    "            empty = 0\n",
    "\n",
    "        updateString = \"UPDATE idList SET done = 1, empty = \" + str(empty) + \" , modDate = '\" + today + \"' WHERE id = \" + target_id + \";\"\n",
    "        c_uil.execute(updateString)\n",
    "    \n",
    "    conn_update_id_list.close()"
   ]
  },
  {
   "cell_type": "code",
   "execution_count": 8,
   "metadata": {
    "scrolled": true
   },
   "outputs": [
    {
     "name": "stdout",
     "output_type": "stream",
     "text": [
      "The main loop has terminated.s not empty; crawled.se        \n"
     ]
    }
   ],
   "source": [
    "# =========\n",
    "# main loop\n",
    "\n",
    "# target_total_count = len(target_url_list)\n",
    "# count = 0\n",
    "\n",
    "for each in target_url_list:\n",
    "    try:\n",
    "        each = str(each)\n",
    "        crawl(each)\n",
    "    except Exception as e:\n",
    "        print(str(each) + \": \" + str(e) +\"        \",end='\\r')\n",
    "#     finally:\n",
    "#         count += 1\n",
    "#         percentage =  str(round(100 * (count / target_total_count),2))\n",
    "#         print(str(count) + \" IDs done. (\" + percentage + \"%)\",end='\\r')\n",
    "    \n",
    "print(\"The main loop has terminated.\")"
   ]
  },
  {
   "cell_type": "code",
   "execution_count": 13,
   "metadata": {
    "collapsed": true
   },
   "outputs": [],
   "source": [
    "# 檢查結果\n",
    "\n",
    "with sqlite3.connect(db_name) as conn4:\n",
    "    \n",
    "    c4 = conn4.cursor()\n",
    "    qryString = \"SELECT distinct url from rental order by url desc;\"\n",
    "    c4.execute(qryString)\n",
    "    results = c4.fetchall()\n",
    "\n",
    "with sqlite3.connect(db_id_list) as conn55:\n",
    "    \n",
    "    c55 = conn55.cursor()\n",
    "    qryString = \"SELECT count(id) from idList where done = 1 and empty = 0 order by id desc;\"\n",
    "    c55.execute(qryString)\n",
    "    results2 = c55.fetchall()\n",
    "\n",
    "c4.close()\n",
    "c55.close()"
   ]
  },
  {
   "cell_type": "code",
   "execution_count": 14,
   "metadata": {
    "scrolled": false
   },
   "outputs": [
    {
     "name": "stdout",
     "output_type": "stream",
     "text": [
      "2693\n",
      "('https://www.pacific.com.tw/Object/ObjectRentDetail/?saleID=071205',)\n"
     ]
    }
   ],
   "source": [
    "print(len(results))\n",
    "print(results[0])"
   ]
  },
  {
   "cell_type": "code",
   "execution_count": null,
   "metadata": {
    "collapsed": true
   },
   "outputs": [],
   "source": []
  }
 ],
 "metadata": {
  "kernelspec": {
   "display_name": "Python 3",
   "language": "python",
   "name": "python3"
  },
  "language_info": {
   "codemirror_mode": {
    "name": "ipython",
    "version": 3
   },
   "file_extension": ".py",
   "mimetype": "text/x-python",
   "name": "python",
   "nbconvert_exporter": "python",
   "pygments_lexer": "ipython3",
   "version": "3.5.2"
  }
 },
 "nbformat": 4,
 "nbformat_minor": 2
}
